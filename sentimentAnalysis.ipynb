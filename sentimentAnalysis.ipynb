{
 "cells": [
  {
   "cell_type": "code",
   "execution_count": 31,
   "metadata": {},
   "outputs": [],
   "source": [
    "corpus = [\"I like pineapple on pizza\",\n",
    " \"I hate pineapple on pizza\", \n",
    "\"Pineapple on pizza is so bad.\",\n",
    "\"I am loving this big pizza with pineapple on it\"]\n"
   ]
  },
  {
   "cell_type": "code",
   "execution_count": 32,
   "metadata": {},
   "outputs": [],
   "source": [
    "good_tokens = [\"like\", \"love\", \"good\"]\n",
    "bad_tokens = [\"hate\", \"bad\", \"worst\"]"
   ]
  },
  {
   "cell_type": "markdown",
   "metadata": {},
   "source": [
    "Main predict function"
   ]
  },
  {
   "cell_type": "code",
   "execution_count": 33,
   "metadata": {},
   "outputs": [],
   "source": [
    "\n",
    "def predict(document, preprocess=None, good_tokens=good_tokens, bad_tokens=bad_tokens):\n",
    "    sentiment = 0\n",
    "    if not preprocess:\n",
    "        document = document.split()\n",
    "    elif preprocess:\n",
    "        document = preprocess(document)\n",
    "    for token in document:\n",
    "        if token in good_tokens:\n",
    "            sentiment += 1\n",
    "        elif token in bad_tokens:\n",
    "            sentiment -= 1\n",
    "    return sentiment\n"
   ]
  },
  {
   "cell_type": "markdown",
   "metadata": {},
   "source": [
    "Preprocess Functions"
   ]
  },
  {
   "cell_type": "code",
   "execution_count": 34,
   "metadata": {},
   "outputs": [],
   "source": [
    "import nltk \n",
    "nltk.download(\"punkt\") \n",
    "def tokenize_lowercase(document):\n",
    "    lowercase_document = document.lower()\n",
    "    return nltk.word_tokenize(lowercase_document)"
   ]
  },
  {
   "cell_type": "code",
   "execution_count": 45,
   "metadata": {},
   "outputs": [
    {
     "name": "stdout",
     "output_type": "stream",
     "text": [
      "doc: I was having a better time\n",
      "doc: [('I', 'PRP'), ('was', 'VBD'), ('having', 'VBG'), ('a', 'DT'), ('better', 'JJR'), ('time', 'NN')]\n",
      "doc: ['I', 'be', 'have', 'a', 'good', 'time']\n"
     ]
    },
    {
     "name": "stderr",
     "output_type": "stream",
     "text": [
      "[nltk_data] Downloading package omw-1.4 to\n",
      "[nltk_data]     /Users/archerheffern/nltk_data...\n",
      "[nltk_data]   Package omw-1.4 is already up-to-date!\n",
      "[nltk_data] Downloading package wordnet to\n",
      "[nltk_data]     /Users/archerheffern/nltk_data...\n",
      "[nltk_data]   Package wordnet is already up-to-date!\n",
      "[nltk_data] Downloading package averaged_perceptron_tagger to\n",
      "[nltk_data]     /Users/archerheffern/nltk_data...\n",
      "[nltk_data]   Package averaged_perceptron_tagger is already up-to-\n",
      "[nltk_data]       date!\n"
     ]
    }
   ],
   "source": [
    "from nltk.stem import WordNetLemmatizer\n",
    "from collections import defaultdict\n",
    "from nltk.corpus import wordnet\n",
    "nltk.download(\"omw-1.4\")\n",
    "nltk.download('wordnet')\n",
    "nltk.download(\"averaged_perceptron_tagger\")\n",
    "doc = \"I was having a better time.\"\n",
    "print(f\"doc: {doc}\")\n",
    "\n",
    "tokens = nltk.word_tokenize(doc)\n",
    "tagged_tokens = nltk.pos_tag(tokens)\n",
    "\n",
    "print(f\"doc: {tagged_tokens}\")\n",
    "\n",
    "lemmas = []\n",
    "tagmap = defaultdict(lambda:wordnet.NOUN)\n",
    "tagmap[\"J\"] = wordnet.ADJ\n",
    "tagmap[\"V\"] = wordnet.VERB\n",
    "tagmap[\"R\"] = wordnet.ADV\n",
    "\n",
    "lemmatizer = WordNetLemmatizer()\n",
    "\n",
    "for token, pos in tagged_tokens:\n",
    "    lemmatizer_tag = tagmap[pos[0]]\n",
    "    lemma = lemmatizer.lemmatize(token, pos=lemmatizer_tag)\n",
    "    lemmas.append(lemma)\n",
    "print(f\"doc: {lemmas}\")"
   ]
  },
  {
   "cell_type": "code",
   "execution_count": 37,
   "metadata": {},
   "outputs": [
    {
     "name": "stdout",
     "output_type": "stream",
     "text": [
      "Positive\n",
      "Negative\n",
      "Negative\n",
      "Neutral\n"
     ]
    },
    {
     "name": "stderr",
     "output_type": "stream",
     "text": [
      "[nltk_data] Downloading package punkt to\n",
      "[nltk_data]     /Users/archerheffern/nltk_data...\n",
      "[nltk_data]   Package punkt is already up-to-date!\n",
      "[nltk_data] Downloading package punkt to\n",
      "[nltk_data]     /Users/archerheffern/nltk_data...\n",
      "[nltk_data]   Package punkt is already up-to-date!\n",
      "[nltk_data] Downloading package punkt to\n",
      "[nltk_data]     /Users/archerheffern/nltk_data...\n",
      "[nltk_data]   Package punkt is already up-to-date!\n",
      "[nltk_data] Downloading package punkt to\n",
      "[nltk_data]     /Users/archerheffern/nltk_data...\n",
      "[nltk_data]   Package punkt is already up-to-date!\n"
     ]
    }
   ],
   "source": [
    "\n",
    "for document in corpus:\n",
    "    sentiment = predict(document, tokenize_lowercase)\n",
    "    if sentiment > 0:\n",
    "        print(\"Positive\")\n",
    "    elif sentiment < 0:\n",
    "        print(\"Negative\")\n",
    "    else:\n",
    "        print(\"Neutral\")"
   ]
  },
  {
   "cell_type": "markdown",
   "metadata": {},
   "source": [
    "Preprocess function 1"
   ]
  }
 ],
 "metadata": {
  "kernelspec": {
   "display_name": "Python 3.10.5 64-bit",
   "language": "python",
   "name": "python3"
  },
  "language_info": {
   "codemirror_mode": {
    "name": "ipython",
    "version": 3
   },
   "file_extension": ".py",
   "mimetype": "text/x-python",
   "name": "python",
   "nbconvert_exporter": "python",
   "pygments_lexer": "ipython3",
   "version": "3.10.5"
  },
  "orig_nbformat": 4,
  "vscode": {
   "interpreter": {
    "hash": "aee8b7b246df8f9039afb4144a1f6fd8d2ca17a180786b69acc140d282b71a49"
   }
  }
 },
 "nbformat": 4,
 "nbformat_minor": 2
}
